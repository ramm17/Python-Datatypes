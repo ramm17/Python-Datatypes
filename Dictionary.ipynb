{
 "cells": [
  {
   "cell_type": "code",
   "execution_count": null,
   "id": "a95e6b73",
   "metadata": {},
   "outputs": [],
   "source": [
    "# Dictionary \n",
    "# -indexed\n",
    "# -duplicate value\n",
    "# -ordered\n",
    "# -mutable"
   ]
  },
  {
   "cell_type": "code",
   "execution_count": 1,
   "id": "2523b645",
   "metadata": {},
   "outputs": [],
   "source": [
    "d=dict()\n",
    "d={}\n"
   ]
  },
  {
   "cell_type": "code",
   "execution_count": null,
   "id": "f587b519",
   "metadata": {},
   "outputs": [],
   "source": []
  },
  {
   "cell_type": "code",
   "execution_count": 3,
   "id": "b672b723",
   "metadata": {},
   "outputs": [
    {
     "data": {
      "text/plain": [
       "{'a': 'apple', 'b': 'ball'}"
      ]
     },
     "execution_count": 3,
     "metadata": {},
     "output_type": "execute_result"
    }
   ],
   "source": [
    "d={\"a\":\"apple\",\"b\":\"ball\"}\n",
    "d"
   ]
  },
  {
   "cell_type": "code",
   "execution_count": 4,
   "id": "81aacfe3",
   "metadata": {},
   "outputs": [
    {
     "data": {
      "text/plain": [
       "'ball'"
      ]
     },
     "execution_count": 4,
     "metadata": {},
     "output_type": "execute_result"
    }
   ],
   "source": [
    "d['b']"
   ]
  },
  {
   "cell_type": "code",
   "execution_count": 5,
   "id": "4356706b",
   "metadata": {},
   "outputs": [
    {
     "data": {
      "text/plain": [
       "{'a': 'apple', 'b': 'ball', 'A': 'apple'}"
      ]
     },
     "execution_count": 5,
     "metadata": {},
     "output_type": "execute_result"
    }
   ],
   "source": [
    "d={\"a\":\"apple\",\"b\":\"ball\",\"A\":\"apple\"}\n",
    "d"
   ]
  },
  {
   "cell_type": "code",
   "execution_count": 6,
   "id": "eb779e21",
   "metadata": {},
   "outputs": [
    {
     "data": {
      "text/plain": [
       "{'A': 'apple', 'b': 'ball'}"
      ]
     },
     "execution_count": 6,
     "metadata": {},
     "output_type": "execute_result"
    }
   ],
   "source": [
    "d={\"A\":\"apple\",\"b\":\"ball\",\"A\":\"apple\"}\n",
    "d"
   ]
  },
  {
   "cell_type": "code",
   "execution_count": 8,
   "id": "b79235be",
   "metadata": {},
   "outputs": [
    {
     "data": {
      "text/plain": [
       "{'a': 'apple', 'b': 'ball', 'A': 'apple', 'c': 'Cat'}"
      ]
     },
     "execution_count": 8,
     "metadata": {},
     "output_type": "execute_result"
    }
   ],
   "source": [
    "d={\"a\":\"apple\",\"b\":\"ball\",\"A\":\"apple\"}\n",
    "d['c']='Cat'\n",
    "d"
   ]
  },
  {
   "cell_type": "code",
   "execution_count": 9,
   "id": "7466eb36",
   "metadata": {},
   "outputs": [
    {
     "data": {
      "text/plain": [
       "{'a': 'Apple', 'b': 'ball', 'A': 'apple'}"
      ]
     },
     "execution_count": 9,
     "metadata": {},
     "output_type": "execute_result"
    }
   ],
   "source": [
    "d={\"a\":\"apple\",\"b\":\"ball\",\"A\":\"apple\"}\n",
    "d['a']='Apple'\n",
    "d"
   ]
  },
  {
   "cell_type": "code",
   "execution_count": 10,
   "id": "f58309b6",
   "metadata": {},
   "outputs": [
    {
     "data": {
      "text/plain": [
       "{'a': 'Apple', 'b': 'Ball'}"
      ]
     },
     "execution_count": 10,
     "metadata": {},
     "output_type": "execute_result"
    }
   ],
   "source": [
    "d={}\n",
    "d['a']='Apple'\n",
    "d['b']='Ball'\n",
    "d"
   ]
  },
  {
   "cell_type": "code",
   "execution_count": 11,
   "id": "a7e14bff",
   "metadata": {},
   "outputs": [
    {
     "name": "stdout",
     "output_type": "stream",
     "text": [
      "Enter n=2\n",
      "Enter name Ram\n",
      "Enter phone 9869044990\n",
      "Enter name Princee\n",
      "Enter phone 9815620879\n",
      "{'Ram': 9869044990, 'Princee': 9815620879}\n"
     ]
    }
   ],
   "source": [
    "d={}\n",
    "n=int(input(\"Enter n=\"))\n",
    "for i in range(n):\n",
    "    name=input(\"Enter name \")\n",
    "    phone=int(input(\"Enter phone \"))\n",
    "    d[name]=phone\n",
    "    \n",
    "print(d)"
   ]
  },
  {
   "cell_type": "code",
   "execution_count": 12,
   "id": "881ff189",
   "metadata": {},
   "outputs": [
    {
     "name": "stdout",
     "output_type": "stream",
     "text": [
      "9869044990\n",
      "9815620879\n"
     ]
    }
   ],
   "source": [
    "d={'Ram': '9869044990', 'Princee': '9815620879'}\n",
    "for i in d.values():\n",
    "    print(i)"
   ]
  },
  {
   "cell_type": "code",
   "execution_count": 13,
   "id": "d9d31be2",
   "metadata": {},
   "outputs": [
    {
     "name": "stdout",
     "output_type": "stream",
     "text": [
      "('Ram', '9869044990')\n",
      "('Princee', '9815620879')\n"
     ]
    }
   ],
   "source": [
    "d={'Ram': '9869044990', 'Princee': '9815620879'}\n",
    "for i in d.items():\n",
    "    print(i)"
   ]
  },
  {
   "cell_type": "code",
   "execution_count": 14,
   "id": "1cf606a3",
   "metadata": {},
   "outputs": [
    {
     "name": "stdout",
     "output_type": "stream",
     "text": [
      "[('Ram', '9869044990'), ('Princee', '9815620879')]\n"
     ]
    }
   ],
   "source": [
    "l=[]\n",
    "d={'Ram': '9869044990', 'Princee': '9815620879'}\n",
    "for i in d.items():\n",
    "    l.append(i)\n",
    "    \n",
    "print(l)"
   ]
  },
  {
   "cell_type": "code",
   "execution_count": 15,
   "id": "e1853544",
   "metadata": {},
   "outputs": [
    {
     "data": {
      "text/plain": [
       "list"
      ]
     },
     "execution_count": 15,
     "metadata": {},
     "output_type": "execute_result"
    }
   ],
   "source": [
    "type(l)"
   ]
  },
  {
   "cell_type": "code",
   "execution_count": 16,
   "id": "b7609cb7",
   "metadata": {},
   "outputs": [
    {
     "data": {
      "text/plain": [
       "{'Ram': '9869044990', 'Princee': '9815620879'}"
      ]
     },
     "execution_count": 16,
     "metadata": {},
     "output_type": "execute_result"
    }
   ],
   "source": [
    "dict(l)"
   ]
  },
  {
   "cell_type": "code",
   "execution_count": 17,
   "id": "5027bcdb",
   "metadata": {},
   "outputs": [
    {
     "data": {
      "text/plain": [
       "{'Princee': '9815620879'}"
      ]
     },
     "execution_count": 17,
     "metadata": {},
     "output_type": "execute_result"
    }
   ],
   "source": [
    "#del\n",
    "\n",
    "d={'Ram': '9869044990', 'Princee': '9815620879'}\n",
    "del d['Ram']\n",
    "d"
   ]
  },
  {
   "cell_type": "code",
   "execution_count": 18,
   "id": "fc3d17e9",
   "metadata": {},
   "outputs": [
    {
     "name": "stdout",
     "output_type": "stream",
     "text": [
      "9869044990\n",
      "{'Princee': '9815620879'}\n"
     ]
    }
   ],
   "source": [
    "#pop\n",
    "d={'Ram': '9869044990', 'Princee': '9815620879'}\n",
    "c=d.pop('Ram')\n",
    "print(c)\n",
    "print(d)"
   ]
  },
  {
   "cell_type": "code",
   "execution_count": 19,
   "id": "0a7e506b",
   "metadata": {},
   "outputs": [
    {
     "data": {
      "text/plain": [
       "{'Ram': ['9811636449', '9869044990'], 'Princee': ['9815620879', '9744357773']}"
      ]
     },
     "execution_count": 19,
     "metadata": {},
     "output_type": "execute_result"
    }
   ],
   "source": [
    "# list inside dictionary\n",
    "d={'Ram':['9811636449','9869044990'],'Princee':['9815620879','9744357773']}\n",
    "d"
   ]
  },
  {
   "cell_type": "code",
   "execution_count": 23,
   "id": "5762bce6",
   "metadata": {},
   "outputs": [
    {
     "name": "stdout",
     "output_type": "stream",
     "text": [
      "Enter n=2\n",
      "Enter name Ram\n",
      "Enter ntc phone 9869044990\n",
      "Enter ncell phone 9811636449\n",
      "Enter name Princee\n",
      "Enter ntc phone 9744357773\n",
      "Enter ncell phone 9815620879\n",
      "{'Ram': [9869044990, 9811636449], 'Princee': [9744357773, 9815620879]}\n"
     ]
    }
   ],
   "source": [
    "d={}\n",
    "n=int(input(\"Enter n=\"))\n",
    "for i in range(n):\n",
    "    name=input(\"Enter name \")\n",
    "    ntc_phone=int(input(\"Enter ntc phone \"))\n",
    "    ncell_phone=int(input(\"Enter ncell phone \"))\n",
    "    d[name]=[ntc_phone, ncell_phone]\n",
    "    \n",
    "print(d)"
   ]
  },
  {
   "cell_type": "code",
   "execution_count": 24,
   "id": "1b772093",
   "metadata": {},
   "outputs": [
    {
     "data": {
      "text/plain": [
       "{'Ram': ['9811636449', '9869044990'],\n",
       " 'Princee': ['9815620879', '9744357773'],\n",
       " 'Hari': ['9888000000', '9800676767']}"
      ]
     },
     "execution_count": 24,
     "metadata": {},
     "output_type": "execute_result"
    }
   ],
   "source": [
    "d={'Ram':['9811636449','9869044990'],'Princee':['9815620879','9744357773']}\n",
    "d['Hari']=['9888000000','9800676767']\n",
    "d"
   ]
  },
  {
   "cell_type": "code",
   "execution_count": 25,
   "id": "d04c4c10",
   "metadata": {},
   "outputs": [
    {
     "data": {
      "text/plain": [
       "{'Ram': ['9869044990'], 'Princee': ['9815620879', '9744357773']}"
      ]
     },
     "execution_count": 25,
     "metadata": {},
     "output_type": "execute_result"
    }
   ],
   "source": [
    "d={'Ram':['9811636449','9869044990'],'Princee':['9815620879','9744357773']}\n",
    "del d['Ram'][0]\n",
    "d"
   ]
  },
  {
   "cell_type": "code",
   "execution_count": 28,
   "id": "5240a82e",
   "metadata": {},
   "outputs": [
    {
     "data": {
      "text/plain": [
       "{'name': ['Ram', 'Shyam', 'Hari'],\n",
       " 'age': [22, 23, 32],\n",
       " 'add': ['Dhn', 'ktm', 'bkt']}"
      ]
     },
     "execution_count": 28,
     "metadata": {},
     "output_type": "execute_result"
    }
   ],
   "source": [
    "d={'name':['Ram','Shyam','Hari'],'age':[22,23,32],'add':['Dhn','ktm','bkt']}\n",
    "d"
   ]
  },
  {
   "cell_type": "code",
   "execution_count": 29,
   "id": "048a1479",
   "metadata": {},
   "outputs": [
    {
     "data": {
      "text/plain": [
       "{'name': ['Ram', 'Shyam', 'Hari', 'Prm'],\n",
       " 'age': [22, 23, 32, 22],\n",
       " 'add': ['Dhn', 'ktm', 'bkt', 'Dhn']}"
      ]
     },
     "execution_count": 29,
     "metadata": {},
     "output_type": "execute_result"
    }
   ],
   "source": [
    "d={'name':['Ram','Shyam','Hari'],'age':[22,23,32],'add':['Dhn','ktm','bkt']}\n",
    "\n",
    "d['name'].append('Prm')\n",
    "d['age'].append(22)\n",
    "d['add'].append('Dhn')\n",
    "d"
   ]
  },
  {
   "cell_type": "code",
   "execution_count": 30,
   "id": "578206eb",
   "metadata": {},
   "outputs": [
    {
     "data": {
      "text/plain": [
       "[{'name': 'Ram', 'age': 45, 'add': 'Kathmandu'},\n",
       " {'name': 'Rama', 'age': 41, 'add': 'Bara'},\n",
       " {'name': 'Shyam', 'age': 48, 'add': 'Bara'}]"
      ]
     },
     "execution_count": 30,
     "metadata": {},
     "output_type": "execute_result"
    }
   ],
   "source": [
    "# dict inside list\n",
    "l = [{'name':'Ram','age':45,'add':'Kathmandu'},\n",
    "    {'name':'Rama','age':41,'add':'Bara'},\n",
    "    {'name':'Shyam','age':48,'add':'Bara'}]\n",
    "l"
   ]
  },
  {
   "cell_type": "code",
   "execution_count": 31,
   "id": "437d0147",
   "metadata": {},
   "outputs": [
    {
     "name": "stdout",
     "output_type": "stream",
     "text": [
      "Enter n=2\n",
      "Enter name Ram\n",
      "Enter age 22\n",
      "Enter addressDhangadhi\n",
      "Enter name Prm\n",
      "Enter age 21\n",
      "Enter addressDHN\n",
      "[{'name': 'Ram', 'age': 22, 'add': 'Dhangadhi'}, {'name': 'Prm', 'age': 21, 'add': 'DHN'}]\n"
     ]
    }
   ],
   "source": [
    "l=[]\n",
    "n=int(input(\"Enter n=\"))\n",
    "for i in range(n):\n",
    "    name=input(\"Enter name \")\n",
    "    age=int(input(\"Enter age \"))\n",
    "    add=input(\"Enter address\")\n",
    "    d={'name':name, 'age':age, 'add':add}\n",
    "    l.append(d)\n",
    "    \n",
    "print(l)"
   ]
  },
  {
   "cell_type": "code",
   "execution_count": 42,
   "id": "a35b8354",
   "metadata": {},
   "outputs": [
    {
     "ename": "IndexError",
     "evalue": "list index out of range",
     "output_type": "error",
     "traceback": [
      "\u001b[1;31m---------------------------------------------------------------------------\u001b[0m",
      "\u001b[1;31mIndexError\u001b[0m                                Traceback (most recent call last)",
      "Input \u001b[1;32mIn [42]\u001b[0m, in \u001b[0;36m<cell line: 1>\u001b[1;34m()\u001b[0m\n\u001b[1;32m----> 1\u001b[0m \u001b[43ml\u001b[49m\u001b[43m[\u001b[49m\u001b[38;5;241;43m0\u001b[39;49m\u001b[43m]\u001b[49m[\u001b[38;5;124m'\u001b[39m\u001b[38;5;124mname\u001b[39m\u001b[38;5;124m'\u001b[39m]\u001b[38;5;241m=\u001b[39m\u001b[38;5;124m\"\u001b[39m\u001b[38;5;124mRama\u001b[39m\u001b[38;5;124m\"\u001b[39m\n",
      "\u001b[1;31mIndexError\u001b[0m: list index out of range"
     ]
    }
   ],
   "source": [
    "l[0]['name']=\"Rama\""
   ]
  },
  {
   "cell_type": "code",
   "execution_count": null,
   "id": "fa6a0cc7",
   "metadata": {},
   "outputs": [],
   "source": []
  },
  {
   "cell_type": "code",
   "execution_count": 37,
   "id": "e40d34a3",
   "metadata": {},
   "outputs": [
    {
     "ename": "IndexError",
     "evalue": "list assignment index out of range",
     "output_type": "error",
     "traceback": [
      "\u001b[1;31m---------------------------------------------------------------------------\u001b[0m",
      "\u001b[1;31mIndexError\u001b[0m                                Traceback (most recent call last)",
      "Input \u001b[1;32mIn [37]\u001b[0m, in \u001b[0;36m<cell line: 1>\u001b[1;34m()\u001b[0m\n\u001b[1;32m----> 1\u001b[0m \u001b[38;5;28;01mdel\u001b[39;00m l[\u001b[38;5;241m0\u001b[39m]\n",
      "\u001b[1;31mIndexError\u001b[0m: list assignment index out of range"
     ]
    }
   ],
   "source": [
    "del l[0]\n",
    "l"
   ]
  },
  {
   "cell_type": "code",
   "execution_count": 39,
   "id": "1eb62558",
   "metadata": {},
   "outputs": [
    {
     "data": {
      "text/plain": [
       "{1: {'name': 'Ram', 'grade': 'A'},\n",
       " 2: {'name': 'Hari', 'grade': 'B'},\n",
       " 3: {'name': 'Sita', 'grade': 'C'}}"
      ]
     },
     "execution_count": 39,
     "metadata": {},
     "output_type": "execute_result"
    }
   ],
   "source": [
    "# dict inside dict\n",
    "d = {1:{\"name\":\"Ram\",\"grade\":\"A\"},\n",
    "    2:{\"name\":\"Hari\",\"grade\":\"B\"},\n",
    "    3:{\"name\":\"Sita\",\"grade\":\"C\"}}\n",
    "d"
   ]
  },
  {
   "cell_type": "code",
   "execution_count": 40,
   "id": "e5b319de",
   "metadata": {},
   "outputs": [
    {
     "data": {
      "text/plain": [
       "{1: {'name': 'Ram', 'grade': 'A'}, 2: {'name': 'Hari', 'grade': 'B'}}"
      ]
     },
     "execution_count": 40,
     "metadata": {},
     "output_type": "execute_result"
    }
   ],
   "source": [
    "d = {}\n",
    "d[1]={\"name\":\"Ram\",\"grade\":\"A\"}\n",
    "d[2] = {\"name\":\"Hari\",\"grade\":\"B\"}\n",
    "d"
   ]
  },
  {
   "cell_type": "code",
   "execution_count": 41,
   "id": "d85b24a4",
   "metadata": {},
   "outputs": [
    {
     "data": {
      "text/plain": [
       "'Ram'"
      ]
     },
     "execution_count": 41,
     "metadata": {},
     "output_type": "execute_result"
    }
   ],
   "source": [
    "d = {1:{\"name\":\"Ram\",\"grade\":\"A\"},\n",
    "    2:{\"name\":\"Hari\",\"grade\":\"B\"},\n",
    "    3:{\"name\":\"Sita\",\"grade\":\"C\"}}\n",
    "d[1]['name']"
   ]
  },
  {
   "cell_type": "code",
   "execution_count": null,
   "id": "cb776c69",
   "metadata": {},
   "outputs": [],
   "source": []
  }
 ],
 "metadata": {
  "kernelspec": {
   "display_name": "Python 3 (ipykernel)",
   "language": "python",
   "name": "python3"
  },
  "language_info": {
   "codemirror_mode": {
    "name": "ipython",
    "version": 3
   },
   "file_extension": ".py",
   "mimetype": "text/x-python",
   "name": "python",
   "nbconvert_exporter": "python",
   "pygments_lexer": "ipython3",
   "version": "3.9.12"
  }
 },
 "nbformat": 4,
 "nbformat_minor": 5
}
