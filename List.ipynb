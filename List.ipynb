{
 "cells": [
  {
   "cell_type": "code",
   "execution_count": null,
   "id": "84f37fe9",
   "metadata": {},
   "outputs": [],
   "source": [
    "# Python Collection \n",
    "# List \n",
    "# Tuple\n",
    "# Set \n",
    "# Dictionary"
   ]
  },
  {
   "cell_type": "code",
   "execution_count": null,
   "id": "7da4e216",
   "metadata": {},
   "outputs": [],
   "source": [
    "# List \n",
    "# -indexing\n",
    "# -multiple data\n",
    "# -duplicate data\n",
    "# -ordered\n",
    "# -mutable"
   ]
  },
  {
   "cell_type": "code",
   "execution_count": 1,
   "id": "aeb3ea4c",
   "metadata": {},
   "outputs": [
    {
     "name": "stdout",
     "output_type": "stream",
     "text": [
      "<class 'list'>\n"
     ]
    }
   ],
   "source": [
    "a=[]\n",
    "a=list()\n",
    "print(type(a))\n"
   ]
  },
  {
   "cell_type": "code",
   "execution_count": 3,
   "id": "baf55bff",
   "metadata": {},
   "outputs": [
    {
     "name": "stdout",
     "output_type": "stream",
     "text": [
      "<class 'list'>\n",
      "<class 'list'>\n"
     ]
    }
   ],
   "source": [
    "a=[1,2,3,4,5]\n",
    "b=['Apple','ball','Cat','Apple']\n",
    "print(type(a))\n",
    "print(type(b))\n"
   ]
  },
  {
   "cell_type": "code",
   "execution_count": 4,
   "id": "819c4e02",
   "metadata": {},
   "outputs": [
    {
     "data": {
      "text/plain": [
       "'Cat'"
      ]
     },
     "execution_count": 4,
     "metadata": {},
     "output_type": "execute_result"
    }
   ],
   "source": [
    "b=['Apple','ball','Cat','Apple']\n",
    "b[2]"
   ]
  },
  {
   "cell_type": "code",
   "execution_count": 5,
   "id": "533c409f",
   "metadata": {},
   "outputs": [
    {
     "data": {
      "text/plain": [
       "['Apple', 'ball']"
      ]
     },
     "execution_count": 5,
     "metadata": {},
     "output_type": "execute_result"
    }
   ],
   "source": [
    "b=['Apple','ball','Cat','Apple']\n",
    "b[0:2]"
   ]
  },
  {
   "cell_type": "code",
   "execution_count": 8,
   "id": "807c096c",
   "metadata": {},
   "outputs": [
    {
     "data": {
      "text/plain": [
       "['Apple', 'Cat']"
      ]
     },
     "execution_count": 8,
     "metadata": {},
     "output_type": "execute_result"
    }
   ],
   "source": [
    "b=['Apple','ball','Cat','Apple']\n",
    "b[0:4:2]"
   ]
  },
  {
   "cell_type": "code",
   "execution_count": 9,
   "id": "3642aa9b",
   "metadata": {},
   "outputs": [
    {
     "data": {
      "text/plain": [
       "4"
      ]
     },
     "execution_count": 9,
     "metadata": {},
     "output_type": "execute_result"
    }
   ],
   "source": [
    "len(b)"
   ]
  },
  {
   "cell_type": "code",
   "execution_count": 10,
   "id": "17f4e340",
   "metadata": {},
   "outputs": [
    {
     "data": {
      "text/plain": [
       "['Apple', 'ball', 'Cat', 'Apple']"
      ]
     },
     "execution_count": 10,
     "metadata": {},
     "output_type": "execute_result"
    }
   ],
   "source": [
    "b=['Apple','ball','Cat','Apple']\n",
    "b"
   ]
  },
  {
   "cell_type": "code",
   "execution_count": 11,
   "id": "68a2c095",
   "metadata": {},
   "outputs": [
    {
     "name": "stdout",
     "output_type": "stream",
     "text": [
      "['Apple', 'ball', 'Cat', 'Apple', 'Fish']\n"
     ]
    }
   ],
   "source": [
    "a=['Apple','ball','Cat','Apple']\n",
    "b=['Fish']\n",
    "c=a+b\n",
    "print(c)"
   ]
  },
  {
   "cell_type": "code",
   "execution_count": 12,
   "id": "ac7ba389",
   "metadata": {},
   "outputs": [
    {
     "data": {
      "text/plain": [
       "['p', 'y', 't', 'h', 'o', 'n']"
      ]
     },
     "execution_count": 12,
     "metadata": {},
     "output_type": "execute_result"
    }
   ],
   "source": [
    "list('python')"
   ]
  },
  {
   "cell_type": "code",
   "execution_count": 13,
   "id": "16ceea23",
   "metadata": {},
   "outputs": [
    {
     "data": {
      "text/plain": [
       "['apple', 'ball', 'Cat', 'Apple']"
      ]
     },
     "execution_count": 13,
     "metadata": {},
     "output_type": "execute_result"
    }
   ],
   "source": [
    "a=['Apple','ball','Cat','Apple']\n",
    "a[0]='apple'\n",
    "a"
   ]
  },
  {
   "cell_type": "code",
   "execution_count": 15,
   "id": "78a81653",
   "metadata": {},
   "outputs": [
    {
     "name": "stdout",
     "output_type": "stream",
     "text": [
      "Apple\n",
      "ball\n",
      "Cat\n",
      "Apple\n",
      "Fish\n"
     ]
    }
   ],
   "source": [
    "a=['Apple','ball','Cat','Apple','Fish']\n",
    "for i in a:\n",
    "    print(i)"
   ]
  },
  {
   "cell_type": "code",
   "execution_count": 16,
   "id": "8db589d4",
   "metadata": {},
   "outputs": [
    {
     "name": "stdout",
     "output_type": "stream",
     "text": [
      "Apple\n",
      "ball\n",
      "Cat\n",
      "Apple\n",
      "Fish\n"
     ]
    }
   ],
   "source": [
    "a=['Apple','ball','Cat','Apple','Fish']\n",
    "l=len(a)\n",
    "for i in range(l):\n",
    "    print(a[i])"
   ]
  },
  {
   "cell_type": "code",
   "execution_count": 17,
   "id": "af6201ed",
   "metadata": {},
   "outputs": [
    {
     "name": "stdout",
     "output_type": "stream",
     "text": [
      "ball\n",
      "Cat\n",
      "Fish\n"
     ]
    }
   ],
   "source": [
    "a=['Apple','ball','Cat','Apple','Fish']\n",
    "for i in a:\n",
    "    if i!= 'Apple':\n",
    "        print(i)"
   ]
  },
  {
   "cell_type": "code",
   "execution_count": 18,
   "id": "972ef080",
   "metadata": {},
   "outputs": [
    {
     "name": "stdout",
     "output_type": "stream",
     "text": [
      "Entr n =5\n",
      "Enter x=1\n",
      "Enter x=2\n",
      "Enter x=3\n",
      "Enter x=4\n",
      "Enter x=5\n",
      "[1, 2, 3, 4, 5]\n"
     ]
    }
   ],
   "source": [
    "a=list()\n",
    "n=int(input(\"Entr n =\"))\n",
    "for i in range(n):\n",
    "    x=int(input(\"Enter x=\"))\n",
    "    a=a+[x]\n",
    "print(a)"
   ]
  },
  {
   "cell_type": "code",
   "execution_count": 19,
   "id": "cb5199fe",
   "metadata": {},
   "outputs": [
    {
     "name": "stdout",
     "output_type": "stream",
     "text": [
      "The ma value= 5\n",
      "The min value= 1\n",
      "the sum= 15\n",
      "The avg= 3.0\n",
      "[1, 2, 3, 4, 5]\n",
      "[5, 4, 3, 2, 1]\n"
     ]
    }
   ],
   "source": [
    "print(\"The ma value=\",max(a))\n",
    "print(\"The min value=\",min(a))\n",
    "print(\"the sum=\",sum(a))\n",
    "print(\"The avg=\",sum(a)/n)\n",
    "a.sort()\n",
    "print(a)\n",
    "a.reverse()\n",
    "print(a)"
   ]
  },
  {
   "cell_type": "code",
   "execution_count": 20,
   "id": "ad849680",
   "metadata": {},
   "outputs": [
    {
     "data": {
      "text/plain": [
       "['Apple', 'Apple', 'Xray', 'Zebra']"
      ]
     },
     "execution_count": 20,
     "metadata": {},
     "output_type": "execute_result"
    }
   ],
   "source": [
    "a=['Apple','Zebra','Apple','Xray']\n",
    "a.sort()\n",
    "a"
   ]
  },
  {
   "cell_type": "code",
   "execution_count": 21,
   "id": "3413b77f",
   "metadata": {},
   "outputs": [
    {
     "data": {
      "text/plain": [
       "['A', 'Xray', 'Z', 'a']"
      ]
     },
     "execution_count": 21,
     "metadata": {},
     "output_type": "execute_result"
    }
   ],
   "source": [
    "a=['A','Z','a','Xray']\n",
    "a.sort()\n",
    "a"
   ]
  },
  {
   "cell_type": "code",
   "execution_count": null,
   "id": "9f67e38b",
   "metadata": {},
   "outputs": [],
   "source": [
    "# Add\n",
    "# append() insert() extend()\n",
    "\n",
    "# delete\n",
    "# del remove() pop()\n",
    "\n",
    "# for indexing\n",
    "# index()\n",
    "\n",
    "# Value count\n",
    "# count()\n",
    "\n",
    "# Calculation\n",
    "# sum() max() min()\n",
    "\n",
    "# sorting\n",
    "# sort() sorted()\n",
    "\n"
   ]
  }
 ],
 "metadata": {
  "kernelspec": {
   "display_name": "Python 3 (ipykernel)",
   "language": "python",
   "name": "python3"
  },
  "language_info": {
   "codemirror_mode": {
    "name": "ipython",
    "version": 3
   },
   "file_extension": ".py",
   "mimetype": "text/x-python",
   "name": "python",
   "nbconvert_exporter": "python",
   "pygments_lexer": "ipython3",
   "version": "3.9.12"
  }
 },
 "nbformat": 4,
 "nbformat_minor": 5
}
