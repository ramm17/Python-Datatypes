{
 "cells": [
  {
   "cell_type": "code",
   "execution_count": null,
   "id": "06fab48d",
   "metadata": {},
   "outputs": [],
   "source": [
    "# Tuple\n",
    "# -indexing\n",
    "# -ordered\n",
    "# -duplicate value\n",
    "# -multiple value\n",
    "# -imutable\n"
   ]
  },
  {
   "cell_type": "code",
   "execution_count": 2,
   "id": "277c5d55",
   "metadata": {},
   "outputs": [
    {
     "name": "stdout",
     "output_type": "stream",
     "text": [
      "<class 'tuple'>\n",
      "<class 'tuple'>\n"
     ]
    }
   ],
   "source": [
    "a=(1,2,3,4,5,6)\n",
    "b=('Apple','Ball','Cat')\n",
    "print(type(a))\n",
    "print(type(b))"
   ]
  },
  {
   "cell_type": "code",
   "execution_count": 3,
   "id": "6ae19f92",
   "metadata": {},
   "outputs": [
    {
     "name": "stdout",
     "output_type": "stream",
     "text": [
      "Cat\n"
     ]
    }
   ],
   "source": [
    "b=('Apple','Ball','Cat')\n",
    "print(b[2])"
   ]
  },
  {
   "cell_type": "code",
   "execution_count": 4,
   "id": "e8703ab4",
   "metadata": {},
   "outputs": [
    {
     "name": "stdout",
     "output_type": "stream",
     "text": [
      "('Apple', 'Ball', 'Cat')\n"
     ]
    }
   ],
   "source": [
    "b=('Apple','Ball','Cat')\n",
    "print(b[0:3])"
   ]
  },
  {
   "cell_type": "code",
   "execution_count": 5,
   "id": "995e7b21",
   "metadata": {},
   "outputs": [
    {
     "data": {
      "text/plain": [
       "('Apple', 'Ball', 'Cat', 'Dog', 'Goat')"
      ]
     },
     "execution_count": 5,
     "metadata": {},
     "output_type": "execute_result"
    }
   ],
   "source": [
    "b=('Apple','Ball','Cat')\n",
    "a=('Dog','Goat')\n",
    "c=b+a\n",
    "c"
   ]
  },
  {
   "cell_type": "code",
   "execution_count": 6,
   "id": "3948060d",
   "metadata": {},
   "outputs": [
    {
     "data": {
      "text/plain": [
       "('Apple', 'Ball', 'Cat', 'Apple', 'Ball', 'Cat')"
      ]
     },
     "execution_count": 6,
     "metadata": {},
     "output_type": "execute_result"
    }
   ],
   "source": [
    "b=('Apple','Ball','Cat')\n",
    "b*2"
   ]
  },
  {
   "cell_type": "code",
   "execution_count": null,
   "id": "141d9b4a",
   "metadata": {},
   "outputs": [],
   "source": [
    "# no append() insert() extend()\n",
    "# no del pop() remove()\n",
    "# no update\n",
    "# no sort\n"
   ]
  },
  {
   "cell_type": "code",
   "execution_count": 8,
   "id": "11ddd440",
   "metadata": {},
   "outputs": [
    {
     "data": {
      "text/plain": [
       "tuple"
      ]
     },
     "execution_count": 8,
     "metadata": {},
     "output_type": "execute_result"
    }
   ],
   "source": [
    "a=(\"Apple\",)\n",
    "type(a)"
   ]
  },
  {
   "cell_type": "code",
   "execution_count": 2,
   "id": "629813ae",
   "metadata": {},
   "outputs": [
    {
     "data": {
      "text/plain": [
       "('Apple', 'Ball')"
      ]
     },
     "execution_count": 2,
     "metadata": {},
     "output_type": "execute_result"
    }
   ],
   "source": [
    "a=tuple()\n",
    "b=\"Apple\"\n",
    "c=\"Ball\"\n",
    "a=a+(b,)\n",
    "a=a+(c,)\n",
    "a"
   ]
  },
  {
   "cell_type": "code",
   "execution_count": 3,
   "id": "08de5d7a",
   "metadata": {},
   "outputs": [
    {
     "name": "stdout",
     "output_type": "stream",
     "text": [
      "Enter n=5\n",
      "Enter n=1\n",
      "Enter n=2\n",
      "Enter n=3\n",
      "Enter n=4\n",
      "Enter n=5\n",
      "(1, 2, 3, 4, 5)\n"
     ]
    }
   ],
   "source": [
    "t=tuple()\n",
    "n=int(input(\"Enter n=\"))\n",
    "for i in range(n):\n",
    "    x=int(input(\"Enter n=\"))\n",
    "    t=t+(x,)\n",
    "print(t)"
   ]
  },
  {
   "cell_type": "code",
   "execution_count": 4,
   "id": "73012767",
   "metadata": {},
   "outputs": [
    {
     "data": {
      "text/plain": [
       "(2, 3, 4, 5)"
      ]
     },
     "execution_count": 4,
     "metadata": {},
     "output_type": "execute_result"
    }
   ],
   "source": [
    "t=(1,2,3,4,5)\n",
    "l=list(t)\n",
    "del l[0]\n",
    "t=tuple(l)\n",
    "t"
   ]
  },
  {
   "cell_type": "code",
   "execution_count": null,
   "id": "ac008aee",
   "metadata": {},
   "outputs": [],
   "source": [
    "# We can \n",
    "# max min sum\n",
    "# read search"
   ]
  },
  {
   "cell_type": "code",
   "execution_count": 5,
   "id": "b4d4b445",
   "metadata": {},
   "outputs": [
    {
     "name": "stdout",
     "output_type": "stream",
     "text": [
      "Yes\n"
     ]
    }
   ],
   "source": [
    "a=(\"Ram\",\"Shyam\",\"Hari\",\"Sita\")\n",
    "if \"Ram\" in a:\n",
    "    print(\"Yes\")"
   ]
  },
  {
   "cell_type": "code",
   "execution_count": 8,
   "id": "ea3238c4",
   "metadata": {},
   "outputs": [
    {
     "data": {
      "text/plain": [
       "['Hari', 'Ram', 'Shyam', 'Sita']"
      ]
     },
     "execution_count": 8,
     "metadata": {},
     "output_type": "execute_result"
    }
   ],
   "source": [
    "a=(\"Ram\",\"Shyam\",\"Hari\",\"Sita\")\n",
    "sorted(a)"
   ]
  },
  {
   "cell_type": "code",
   "execution_count": null,
   "id": "243d88bf",
   "metadata": {},
   "outputs": [],
   "source": [
    "# tuple inside tuple\n",
    "# t=((1,2,3),\n",
    "#    (4,5,6),\n",
    "#    (7,8,9))"
   ]
  },
  {
   "cell_type": "code",
   "execution_count": 10,
   "id": "7c2d6249",
   "metadata": {},
   "outputs": [
    {
     "name": "stdout",
     "output_type": "stream",
     "text": [
      "Enter n=2\n",
      "Enter x=1\n",
      "Enter y=2\n",
      "Enter z=3\n",
      "Enter x=4\n",
      "Enter y=5\n",
      "Enter z=6\n",
      "((1, 2, 3), (4, 5, 6))\n"
     ]
    }
   ],
   "source": [
    "t=tuple()\n",
    "n=int(input(\"Enter n=\"))\n",
    "for i in range(n):\n",
    "    x=int(input(\"Enter x=\"))\n",
    "    y=int(input(\"Enter y=\"))\n",
    "    z=int(input(\"Enter z=\"))\n",
    "    t=t+((x,y,z),)\n",
    "print(t)"
   ]
  },
  {
   "cell_type": "code",
   "execution_count": 11,
   "id": "730b2f7a",
   "metadata": {},
   "outputs": [
    {
     "data": {
      "text/plain": [
       "[[1, 2, 3], [4, 5, 6]]"
      ]
     },
     "execution_count": 11,
     "metadata": {},
     "output_type": "execute_result"
    }
   ],
   "source": [
    "l=[]\n",
    "t=((1,2,3),(4,5,6))\n",
    "for i in t:\n",
    "    l.append(list(i))\n",
    "l"
   ]
  },
  {
   "cell_type": "code",
   "execution_count": 13,
   "id": "c72adb11",
   "metadata": {},
   "outputs": [
    {
     "name": "stdout",
     "output_type": "stream",
     "text": [
      "((1, 2, 3), (4, 5, 6))\n"
     ]
    }
   ],
   "source": [
    "t=tuple()\n",
    "l=[[1,2,3],[4,5,6]]\n",
    "for i in l:\n",
    "    t=t+(tuple(i),)\n",
    "print(t)"
   ]
  },
  {
   "cell_type": "code",
   "execution_count": null,
   "id": "f2539174",
   "metadata": {},
   "outputs": [],
   "source": [
    "t=([1,2,3],[4,5,6])\n",
    "l=[(1,2,3),(4,5,6)]\n"
   ]
  },
  {
   "cell_type": "code",
   "execution_count": 14,
   "id": "54894429",
   "metadata": {},
   "outputs": [
    {
     "data": {
      "text/plain": [
       "[(1, 2, 3), (4, 5, 6)]"
      ]
     },
     "execution_count": 14,
     "metadata": {},
     "output_type": "execute_result"
    }
   ],
   "source": [
    "t=((1,2,3),(4,5,6))\n",
    "t=list(t)\n",
    "t"
   ]
  },
  {
   "cell_type": "code",
   "execution_count": 15,
   "id": "4d51bb4b",
   "metadata": {},
   "outputs": [
    {
     "data": {
      "text/plain": [
       "[(1, 2, 3), (4, 5, 6), (7, 8, 9)]"
      ]
     },
     "execution_count": 15,
     "metadata": {},
     "output_type": "execute_result"
    }
   ],
   "source": [
    "t.append((7,8,9))\n",
    "t"
   ]
  },
  {
   "cell_type": "code",
   "execution_count": 16,
   "id": "3eba41ae",
   "metadata": {},
   "outputs": [
    {
     "data": {
      "text/plain": [
       "[(4, 5, 6), (7, 8, 9)]"
      ]
     },
     "execution_count": 16,
     "metadata": {},
     "output_type": "execute_result"
    }
   ],
   "source": [
    "del t[0]\n",
    "t\n"
   ]
  },
  {
   "cell_type": "code",
   "execution_count": 17,
   "id": "8f764bd6",
   "metadata": {},
   "outputs": [
    {
     "data": {
      "text/plain": [
       "[(0, 2, 3), (4, 5, 6), (7, 8, 9)]"
      ]
     },
     "execution_count": 17,
     "metadata": {},
     "output_type": "execute_result"
    }
   ],
   "source": [
    "t=[(1, 2, 3), (4, 5, 6), (7, 8, 9)]\n",
    "t[0]=(0,2,3)\n",
    "t"
   ]
  },
  {
   "cell_type": "code",
   "execution_count": 22,
   "id": "a6009a95",
   "metadata": {},
   "outputs": [
    {
     "data": {
      "text/plain": [
       "([1, 2, 3, 33], [4, 5, 6])"
      ]
     },
     "execution_count": 22,
     "metadata": {},
     "output_type": "execute_result"
    }
   ],
   "source": [
    "t=([1,2,3],[4,5,6])\n",
    "t[0].append(33)\n",
    "t"
   ]
  },
  {
   "cell_type": "code",
   "execution_count": 23,
   "id": "0ef25179",
   "metadata": {},
   "outputs": [
    {
     "data": {
      "text/plain": [
       "([11, 2, 3], [4, 5, 6])"
      ]
     },
     "execution_count": 23,
     "metadata": {},
     "output_type": "execute_result"
    }
   ],
   "source": [
    "t=([1,2,3],[4,5,6])\n",
    "t[0][0]=11\n",
    "t"
   ]
  },
  {
   "cell_type": "code",
   "execution_count": 24,
   "id": "dbf96776",
   "metadata": {},
   "outputs": [
    {
     "data": {
      "text/plain": [
       "([11, 22, 33], [4, 5, 6])"
      ]
     },
     "execution_count": 24,
     "metadata": {},
     "output_type": "execute_result"
    }
   ],
   "source": [
    "t=([1,2,3],[4,5,6])\n",
    "t[0][0]=11\n",
    "t[0][1]=22\n",
    "t[0][2]=33\n",
    "t"
   ]
  },
  {
   "cell_type": "code",
   "execution_count": 25,
   "id": "06be68b7",
   "metadata": {},
   "outputs": [
    {
     "data": {
      "text/plain": [
       "([], [4, 5, 6])"
      ]
     },
     "execution_count": 25,
     "metadata": {},
     "output_type": "execute_result"
    }
   ],
   "source": [
    "t=([1,2,3],[4,5,6])\n",
    "t[0].clear()\n",
    "t"
   ]
  },
  {
   "cell_type": "code",
   "execution_count": 28,
   "id": "e07ab0ce",
   "metadata": {},
   "outputs": [
    {
     "name": "stdout",
     "output_type": "stream",
     "text": [
      "Enter r=3\n",
      "Enter c=3\n",
      "Enter x=1\n",
      "Enter x=2\n",
      "Enter x=3\n",
      "Enter x=4\n",
      "Enter x=5\n",
      "Enter x=6\n",
      "Enter x=7\n",
      "Enter x=8\n",
      "Enter x=9\n"
     ]
    }
   ],
   "source": [
    "# [[1,2,3],\n",
    "#  [4,5,6],\n",
    "#  [7,8,9]]\n",
    "# m=[[1,2,3],[4,5,6],[7,8,9]]\n",
    "# n=[7,8,9]\n",
    "\n",
    "r=int(input(\"Enter r=\"))\n",
    "c=int(input(\"Enter c=\"))\n",
    "m=[]\n",
    "for i in range(r):\n",
    "    n=[]\n",
    "    for j in range(c):\n",
    "        x=int(input(\"Enter x=\"))\n",
    "        n.append(x)\n",
    "    m.append(n)\n",
    "    "
   ]
  },
  {
   "cell_type": "code",
   "execution_count": 29,
   "id": "7fa4b413",
   "metadata": {},
   "outputs": [
    {
     "name": "stdout",
     "output_type": "stream",
     "text": [
      "[[1, 2, 3], [4, 5, 6], [7, 8, 9]]\n"
     ]
    }
   ],
   "source": [
    "print(m)"
   ]
  },
  {
   "cell_type": "code",
   "execution_count": null,
   "id": "25f68870",
   "metadata": {},
   "outputs": [],
   "source": []
  }
 ],
 "metadata": {
  "kernelspec": {
   "display_name": "Python 3 (ipykernel)",
   "language": "python",
   "name": "python3"
  },
  "language_info": {
   "codemirror_mode": {
    "name": "ipython",
    "version": 3
   },
   "file_extension": ".py",
   "mimetype": "text/x-python",
   "name": "python",
   "nbconvert_exporter": "python",
   "pygments_lexer": "ipython3",
   "version": "3.9.12"
  }
 },
 "nbformat": 4,
 "nbformat_minor": 5
}
