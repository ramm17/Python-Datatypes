{
 "cells": [
  {
   "cell_type": "code",
   "execution_count": null,
   "id": "d02ffb60",
   "metadata": {},
   "outputs": [],
   "source": [
    "# Set \n",
    "# -no indexing\n",
    "# -unordered\n",
    "# -Multiple but no duplicate\n",
    "# -Mutable data"
   ]
  },
  {
   "cell_type": "code",
   "execution_count": 1,
   "id": "380149f1",
   "metadata": {},
   "outputs": [
    {
     "name": "stdout",
     "output_type": "stream",
     "text": [
      "<class 'set'>\n"
     ]
    }
   ],
   "source": [
    "s={1,3,4}\n",
    "s=set()\n",
    "print(type(s))"
   ]
  },
  {
   "cell_type": "code",
   "execution_count": 3,
   "id": "729f337d",
   "metadata": {},
   "outputs": [
    {
     "name": "stdout",
     "output_type": "stream",
     "text": [
      "{34, 54, 22, 40, 11}\n"
     ]
    },
    {
     "data": {
      "text/plain": [
       "{11, 22, 34, 40, 54}"
      ]
     },
     "execution_count": 3,
     "metadata": {},
     "output_type": "execute_result"
    }
   ],
   "source": [
    "s={34,54,22,11,40}\n",
    "print(s)\n",
    "s\n"
   ]
  },
  {
   "cell_type": "code",
   "execution_count": 4,
   "id": "aee36f40",
   "metadata": {},
   "outputs": [
    {
     "ename": "TypeError",
     "evalue": "'set' object is not subscriptable",
     "output_type": "error",
     "traceback": [
      "\u001b[1;31m---------------------------------------------------------------------------\u001b[0m",
      "\u001b[1;31mTypeError\u001b[0m                                 Traceback (most recent call last)",
      "Input \u001b[1;32mIn [4]\u001b[0m, in \u001b[0;36m<cell line: 2>\u001b[1;34m()\u001b[0m\n\u001b[0;32m      1\u001b[0m s\u001b[38;5;241m=\u001b[39m{\u001b[38;5;241m34\u001b[39m,\u001b[38;5;241m54\u001b[39m,\u001b[38;5;241m22\u001b[39m,\u001b[38;5;241m11\u001b[39m,\u001b[38;5;241m40\u001b[39m}\n\u001b[1;32m----> 2\u001b[0m \u001b[43ms\u001b[49m\u001b[43m[\u001b[49m\u001b[38;5;241;43m0\u001b[39;49m\u001b[43m]\u001b[49m\n",
      "\u001b[1;31mTypeError\u001b[0m: 'set' object is not subscriptable"
     ]
    }
   ],
   "source": [
    "s={34,54,22,11,40}\n",
    "s[0]"
   ]
  },
  {
   "cell_type": "code",
   "execution_count": 5,
   "id": "15108e60",
   "metadata": {},
   "outputs": [
    {
     "name": "stdout",
     "output_type": "stream",
     "text": [
      "{34, 54, 22, 40, 11}\n"
     ]
    }
   ],
   "source": [
    "s={34,54,22,11,40,11,34,22}\n",
    "print(s)"
   ]
  },
  {
   "cell_type": "code",
   "execution_count": 6,
   "id": "2e937197",
   "metadata": {},
   "outputs": [
    {
     "data": {
      "text/plain": [
       "[34, 54, 22, 40, 11]"
      ]
     },
     "execution_count": 6,
     "metadata": {},
     "output_type": "execute_result"
    }
   ],
   "source": [
    "s={34,54,22,11,40,11,34,22}\n",
    "list(s)"
   ]
  },
  {
   "cell_type": "code",
   "execution_count": 7,
   "id": "fe80a190",
   "metadata": {},
   "outputs": [
    {
     "data": {
      "text/plain": [
       "[34, 54, 22, 40, 11]"
      ]
     },
     "execution_count": 7,
     "metadata": {},
     "output_type": "execute_result"
    }
   ],
   "source": [
    "s={34,54,22,11,40,11,34,22}\n",
    "list(set(s))"
   ]
  },
  {
   "cell_type": "code",
   "execution_count": 8,
   "id": "09ea7adc",
   "metadata": {},
   "outputs": [
    {
     "name": "stdout",
     "output_type": "stream",
     "text": [
      "{'Apple', 'Cat', 'Ball'}\n"
     ]
    }
   ],
   "source": [
    "s=set()\n",
    "s.add('Apple')\n",
    "s.add('Ball')\n",
    "s.add('Cat')\n",
    "print(s)"
   ]
  },
  {
   "cell_type": "code",
   "execution_count": 9,
   "id": "721e7e62",
   "metadata": {},
   "outputs": [
    {
     "name": "stdout",
     "output_type": "stream",
     "text": [
      "Enter n=5\n",
      "Enter x=12\n",
      "Enter x=13\n",
      "Enter x=14\n",
      "Enter x=15\n",
      "Enter x=16\n"
     ]
    }
   ],
   "source": [
    "s=set()\n",
    "n=int(input(\"Enter n=\"))\n",
    "for i in range(n):\n",
    "    x=input(\"Enter x=\")\n",
    "    s.add(x)"
   ]
  },
  {
   "cell_type": "code",
   "execution_count": 10,
   "id": "d6bbddde",
   "metadata": {},
   "outputs": [
    {
     "data": {
      "text/plain": [
       "{'12', '13', '14', '15', '16'}"
      ]
     },
     "execution_count": 10,
     "metadata": {},
     "output_type": "execute_result"
    }
   ],
   "source": [
    "s"
   ]
  },
  {
   "cell_type": "code",
   "execution_count": 12,
   "id": "ea8c575c",
   "metadata": {},
   "outputs": [
    {
     "data": {
      "text/plain": [
       "{'Jack', 'Nabin'}"
      ]
     },
     "execution_count": 12,
     "metadata": {},
     "output_type": "execute_result"
    }
   ],
   "source": [
    "apple={'Ram','Jobs','Jack','Nabin'}\n",
    "ms={'Gates','Naresh','Jack','Subin','Nabin'}\n",
    "apple.intersection(ms)"
   ]
  },
  {
   "cell_type": "code",
   "execution_count": 13,
   "id": "7a5e6ab5",
   "metadata": {},
   "outputs": [
    {
     "data": {
      "text/plain": [
       "{'Gates', 'Jack', 'Jobs', 'Nabin', 'Naresh', 'Ram', 'Subin'}"
      ]
     },
     "execution_count": 13,
     "metadata": {},
     "output_type": "execute_result"
    }
   ],
   "source": [
    "apple.union(ms)"
   ]
  },
  {
   "cell_type": "code",
   "execution_count": 15,
   "id": "3c53f49c",
   "metadata": {},
   "outputs": [
    {
     "data": {
      "text/plain": [
       "{'Gates', 'Jack', 'Jobs', 'Nabin', 'Naresh', 'Ram', 'Subin'}"
      ]
     },
     "execution_count": 15,
     "metadata": {},
     "output_type": "execute_result"
    }
   ],
   "source": [
    "apple.update(ms)\n",
    "apple"
   ]
  },
  {
   "cell_type": "code",
   "execution_count": null,
   "id": "c93091e8",
   "metadata": {},
   "outputs": [],
   "source": []
  },
  {
   "cell_type": "code",
   "execution_count": 16,
   "id": "39d56857",
   "metadata": {},
   "outputs": [
    {
     "data": {
      "text/plain": [
       "{'Jobs', 'Ram'}"
      ]
     },
     "execution_count": 16,
     "metadata": {},
     "output_type": "execute_result"
    }
   ],
   "source": [
    "apple={'Ram','Jobs','Jack','Nabin'}\n",
    "ms={'Gates','Naresh','Jack','Subin','Nabin'}\n",
    "apple.difference(ms)"
   ]
  },
  {
   "cell_type": "code",
   "execution_count": 18,
   "id": "4cd143de",
   "metadata": {},
   "outputs": [
    {
     "data": {
      "text/plain": [
       "{'Kim', 'Mark'}"
      ]
     },
     "execution_count": 18,
     "metadata": {},
     "output_type": "execute_result"
    }
   ],
   "source": [
    "U={'Gates', 'Jack', 'Jobs', 'Nabin', 'Naresh', 'Ram', 'Subin','Kim','Mark'}\n",
    "apple={'Ram','Jobs','Jack','Nabin'}\n",
    "ms={'Gates','Naresh','Jack','Subin','Nabin'}\n",
    "\n",
    "un=apple.union(ms)\n",
    "U-un"
   ]
  },
  {
   "cell_type": "code",
   "execution_count": 19,
   "id": "cab850e8",
   "metadata": {},
   "outputs": [
    {
     "data": {
      "text/plain": [
       "{'Python', 'html'}"
      ]
     },
     "execution_count": 19,
     "metadata": {},
     "output_type": "execute_result"
    }
   ],
   "source": [
    "job={'Python','django','html','css'}\n",
    "u={'Python','html'}\n",
    "job.intersection(u)"
   ]
  },
  {
   "cell_type": "code",
   "execution_count": 20,
   "id": "872fabee",
   "metadata": {},
   "outputs": [
    {
     "data": {
      "text/plain": [
       "2"
      ]
     },
     "execution_count": 20,
     "metadata": {},
     "output_type": "execute_result"
    }
   ],
   "source": [
    "len(job.intersection(u))"
   ]
  },
  {
   "cell_type": "code",
   "execution_count": 21,
   "id": "2155cbe4",
   "metadata": {},
   "outputs": [
    {
     "data": {
      "text/plain": [
       "50.0"
      ]
     },
     "execution_count": 21,
     "metadata": {},
     "output_type": "execute_result"
    }
   ],
   "source": [
    "len(job.intersection(u))/len(job)*100"
   ]
  },
  {
   "cell_type": "code",
   "execution_count": 22,
   "id": "7da8961e",
   "metadata": {},
   "outputs": [
    {
     "ename": "TypeError",
     "evalue": "unhashable type: 'list'",
     "output_type": "error",
     "traceback": [
      "\u001b[1;31m---------------------------------------------------------------------------\u001b[0m",
      "\u001b[1;31mTypeError\u001b[0m                                 Traceback (most recent call last)",
      "Input \u001b[1;32mIn [22]\u001b[0m, in \u001b[0;36m<cell line: 1>\u001b[1;34m()\u001b[0m\n\u001b[1;32m----> 1\u001b[0m job\u001b[38;5;241m=\u001b[39m{[\u001b[38;5;124m'\u001b[39m\u001b[38;5;124mPython\u001b[39m\u001b[38;5;124m'\u001b[39m,\u001b[38;5;124m'\u001b[39m\u001b[38;5;124mdjango\u001b[39m\u001b[38;5;124m'\u001b[39m],[\u001b[38;5;124m'\u001b[39m\u001b[38;5;124mhtml\u001b[39m\u001b[38;5;124m'\u001b[39m,\u001b[38;5;124m'\u001b[39m\u001b[38;5;124mcss\u001b[39m\u001b[38;5;124m'\u001b[39m]}\n\u001b[0;32m      2\u001b[0m job\n",
      "\u001b[1;31mTypeError\u001b[0m: unhashable type: 'list'"
     ]
    }
   ],
   "source": [
    "job={['Python','django'],['html','css']}\n",
    "job"
   ]
  },
  {
   "cell_type": "code",
   "execution_count": 23,
   "id": "6dc6a24b",
   "metadata": {},
   "outputs": [
    {
     "data": {
      "text/plain": [
       "{('Python', 'django'), ('html', 'css')}"
      ]
     },
     "execution_count": 23,
     "metadata": {},
     "output_type": "execute_result"
    }
   ],
   "source": [
    "job={('Python','django'),('html','css')}\n",
    "job"
   ]
  },
  {
   "cell_type": "code",
   "execution_count": 24,
   "id": "65c10419",
   "metadata": {},
   "outputs": [
    {
     "ename": "TypeError",
     "evalue": "unhashable type: 'set'",
     "output_type": "error",
     "traceback": [
      "\u001b[1;31m---------------------------------------------------------------------------\u001b[0m",
      "\u001b[1;31mTypeError\u001b[0m                                 Traceback (most recent call last)",
      "Input \u001b[1;32mIn [24]\u001b[0m, in \u001b[0;36m<cell line: 2>\u001b[1;34m()\u001b[0m\n\u001b[0;32m      1\u001b[0m \u001b[38;5;66;03m# set inside set\u001b[39;00m\n\u001b[1;32m----> 2\u001b[0m s\u001b[38;5;241m=\u001b[39m{{\u001b[38;5;241m1\u001b[39m,\u001b[38;5;241m2\u001b[39m,\u001b[38;5;241m3\u001b[39m},{\u001b[38;5;241m4\u001b[39m,\u001b[38;5;241m5\u001b[39m,\u001b[38;5;241m6\u001b[39m}}\n\u001b[0;32m      3\u001b[0m s\n",
      "\u001b[1;31mTypeError\u001b[0m: unhashable type: 'set'"
     ]
    }
   ],
   "source": [
    "# set inside set\n",
    "s={{1,2,3},{4,5,6}}\n",
    "s"
   ]
  },
  {
   "cell_type": "code",
   "execution_count": 26,
   "id": "aff21c10",
   "metadata": {},
   "outputs": [
    {
     "data": {
      "text/plain": [
       "[{1, 2, 3}, {4, 5, 6}]"
      ]
     },
     "execution_count": 26,
     "metadata": {},
     "output_type": "execute_result"
    }
   ],
   "source": [
    "#set indide list \n",
    "l=[{1,2,3},{4,5,6}]\n",
    "l"
   ]
  },
  {
   "cell_type": "code",
   "execution_count": 27,
   "id": "3ce31d2e",
   "metadata": {},
   "outputs": [
    {
     "data": {
      "text/plain": [
       "({1, 2, 3}, {4, 5, 6})"
      ]
     },
     "execution_count": 27,
     "metadata": {},
     "output_type": "execute_result"
    }
   ],
   "source": [
    "#set indide tuple \n",
    "t=({1,2,3},{4,5,6})\n",
    "t"
   ]
  },
  {
   "cell_type": "code",
   "execution_count": 30,
   "id": "0d65c242",
   "metadata": {},
   "outputs": [
    {
     "data": {
      "text/plain": [
       "{'apple': {'Jack', 'Jobs', 'Nabin', 'Ram'},\n",
       " 'ms': {'Gates', 'Jack', 'Nabin', 'Naresh', 'Subin'},\n",
       " 'intl': {'Jack', 'Nabin'},\n",
       " 'union': {'Gates', 'Jack', 'Jobs', 'Nabin', 'Naresh', 'Ram', 'Subin'}}"
      ]
     },
     "execution_count": 30,
     "metadata": {},
     "output_type": "execute_result"
    }
   ],
   "source": [
    "d={\"apple\":{'Ram','Jobs','Jack','Nabin'},\n",
    "    \"ms\":{'Gates','Naresh','Jack','Subin','Nabin'},\\\n",
    "   \"intl\":apple.intersection(ms),\n",
    "   \"union\":apple.union(ms)}\n",
    "d"
   ]
  },
  {
   "cell_type": "code",
   "execution_count": null,
   "id": "e94afc54",
   "metadata": {},
   "outputs": [],
   "source": [
    "# isdisjpint() subset() superset() issubset() issuperset()"
   ]
  },
  {
   "cell_type": "code",
   "execution_count": 31,
   "id": "3608ce54",
   "metadata": {},
   "outputs": [
    {
     "data": {
      "text/plain": [
       "False"
      ]
     },
     "execution_count": 31,
     "metadata": {},
     "output_type": "execute_result"
    }
   ],
   "source": [
    "apple.isdisjoint(ms)"
   ]
  },
  {
   "cell_type": "code",
   "execution_count": 32,
   "id": "ae897113",
   "metadata": {},
   "outputs": [
    {
     "data": {
      "text/plain": [
       "True"
      ]
     },
     "execution_count": 32,
     "metadata": {},
     "output_type": "execute_result"
    }
   ],
   "source": [
    "a={1,2,3,4,5}\n",
    "b={2,3}\n",
    "b.issubset(a)"
   ]
  },
  {
   "cell_type": "code",
   "execution_count": null,
   "id": "406c74f4",
   "metadata": {},
   "outputs": [],
   "source": []
  }
 ],
 "metadata": {
  "kernelspec": {
   "display_name": "Python 3 (ipykernel)",
   "language": "python",
   "name": "python3"
  },
  "language_info": {
   "codemirror_mode": {
    "name": "ipython",
    "version": 3
   },
   "file_extension": ".py",
   "mimetype": "text/x-python",
   "name": "python",
   "nbconvert_exporter": "python",
   "pygments_lexer": "ipython3",
   "version": "3.9.12"
  }
 },
 "nbformat": 4,
 "nbformat_minor": 5
}
